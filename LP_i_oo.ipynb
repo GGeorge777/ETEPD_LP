{
  "nbformat": 4,
  "nbformat_minor": 0,
  "metadata": {
    "colab": {
      "name": "LP_i_oo.ipynb",
      "provenance": [],
      "authorship_tag": "ABX9TyNDbXI/l/KVQOO1G2tmQyty",
      "include_colab_link": true
    },
    "kernelspec": {
      "name": "python3",
      "display_name": "Python 3"
    },
    "language_info": {
      "name": "python"
    }
  },
  "cells": [
    {
      "cell_type": "markdown",
      "metadata": {
        "id": "view-in-github",
        "colab_type": "text"
      },
      "source": [
        "<a href=\"https://colab.research.google.com/github/clovesrocha/ETEPD_LP/blob/main/LP_i_oo.ipynb\" target=\"_parent\"><img src=\"https://colab.research.google.com/assets/colab-badge.svg\" alt=\"Open In Colab\"/></a>"
      ]
    },
    {
      "cell_type": "code",
      "execution_count": 4,
      "metadata": {
        "colab": {
          "base_uri": "https://localhost:8080/"
        },
        "id": "lDb5Wo1_5mll",
        "outputId": "8a440926-78aa-4d4e-bac3-d122f6421a7f"
      },
      "outputs": [
        {
          "output_type": "stream",
          "name": "stdout",
          "text": [
            "Cloves A. da Rocha\n",
            "123\n",
            "\n",
            "Escola Pública\n",
            "Subsequente\n",
            "\n",
            "Professor\n"
          ]
        }
      ],
      "source": [
        "#ETE Porto Digital\n",
        "#Prof. Cloves Rocha\n",
        "#LP_Subsequente_2022\n",
        "\n",
        "class Estudante:\n",
        " def __init__(self, nome_completo, matricula, origem, tipo, nivel_dificuldade):\n",
        "    self.nome_completo = nome_completo\n",
        "    self.matricula = matricula\n",
        "    self.origem = origem\n",
        "    self.tipo = tipo\n",
        "    self.nivel_dificuldade = nivel_dificuldade\n",
        "\n",
        "cloves = Estudante('Cloves A. da Rocha', '123', 'Escola Pública', 'Subsequente', 'Professor')\n",
        "print( cloves.nome_completo + \"\\n\" + cloves.matricula + \"\\n\" + \"\\n\" + cloves.origem + \"\\n\" + cloves.tipo + \"\\n\" + \"\\n\" + cloves.nivel_dificuldade )\n",
        "\n"
      ]
    }
  ]
}