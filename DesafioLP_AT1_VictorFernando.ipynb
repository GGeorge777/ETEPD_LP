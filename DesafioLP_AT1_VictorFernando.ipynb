{
  "nbformat": 4,
  "nbformat_minor": 0,
  "metadata": {
    "colab": {
      "provenance": [],
      "authorship_tag": "ABX9TyOrQ42t6caSECBH6y2xXlN2",
      "include_colab_link": true
    },
    "kernelspec": {
      "name": "python3",
      "display_name": "Python 3"
    },
    "language_info": {
      "name": "python"
    }
  },
  "cells": [
    {
      "cell_type": "markdown",
      "metadata": {
        "id": "view-in-github",
        "colab_type": "text"
      },
      "source": [
        "<a href=\"https://colab.research.google.com/github/clovesrocha/ETEPD_LP/blob/main/DesafioLP_AT1_VictorFernando.ipynb\" target=\"_parent\"><img src=\"https://colab.research.google.com/assets/colab-badge.svg\" alt=\"Open In Colab\"/></a>"
      ]
    },
    {
      "cell_type": "code",
      "execution_count": 1,
      "metadata": {
        "id": "SoerNnpIBI5e"
      },
      "outputs": [],
      "source": [
        "#ETEPD \n",
        "#DISCIPLINA: LP\n",
        "#PROF: CLOVES ROCHA\n",
        "#ALUNOS: Victor Fernando Câmara Viana\n",
        "#email: vfcv@etepd.com \n",
        "\n",
        "import sqlite3\n",
        "\n",
        "#Criando o banco de dados e conectando ao banco criado\n",
        "banco = sqlite3.connect('banco_talentos.db')\n",
        "\n",
        "#Criando um cursor para operar com o banco de dados\n",
        "cursor = banco.cursor()\n",
        "\n",
        "#Criando uma tabela com parametros solicitados\n",
        "cursor.execute(\"CREATE TABLE joblist (vaga text, salario float, criado text, empresa text, cargo text, descricao text, status text)\")\n",
        "\n",
        "#Criando classe, instanciando objeto Oportunidades\n",
        "class Oportunidades:\n",
        "    def __init__(self, vaga, salario, criado, empresa, cargo, descricao, status):\n",
        "        self.vaga = vaga\n",
        "        self.salario = salario\n",
        "        self.criado = criado\n",
        "        self.empresa = empresa\n",
        "        self.cargo = cargo\n",
        "        self.descricao = descricao\n",
        "        self.status = status\n",
        "\n",
        "def ListarVagas(self):\n",
        "  cursor.execute(\"SELECT * FROM joblist\")\n",
        "  print(cursor.fetchall())\n",
        "  banco.commit()\n",
        "\n",
        "def CadastrarVagas(self):\n",
        "  #vaga = str(input(\"Digite o titulo da vaga: \"))\n",
        "  #self.append(vaga)\n",
        "  cursor.execute(\"INSERT INTO joblist VALUES('Analista de Projetos Junior',4000,'10/09/2022','CRD Data','Analista Junior','Analista Junior com experiência de 5 ano em Gestão de Projetos e certificação PMP','aberta')\")\n",
        "  banco.commit()\n",
        "\n",
        "def AlterarVagas(self):\n",
        "  cursor.execute(\"UPDATE joblist SET salario = 4500 WHERE salario = 4000\")\n",
        "  banco.commit()\n",
        "\n",
        "def DeletarVagas(self):\n",
        "  cursor.execute(\"DELETE from joblist WHERE vaga = 'Analista de Projetos Junior'\")\n",
        "  banco.commit()\n",
        "\n",
        "if __name__ == \"__main__\":\n",
        "  CadastrarVagas()\n",
        "  AlterarVagas()\n",
        "  DeletarVagas()\n",
        "  ListarVagas()"
      ]
    }
  ]
}