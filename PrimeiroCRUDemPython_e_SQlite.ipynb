{
  "nbformat": 4,
  "nbformat_minor": 0,
  "metadata": {
    "colab": {
      "provenance": [],
      "authorship_tag": "ABX9TyO2QZwB0IxEvTp7R6ujVwYn",
      "include_colab_link": true
    },
    "kernelspec": {
      "name": "python3",
      "display_name": "Python 3"
    },
    "language_info": {
      "name": "python"
    }
  },
  "cells": [
    {
      "cell_type": "markdown",
      "metadata": {
        "id": "view-in-github",
        "colab_type": "text"
      },
      "source": [
        "<a href=\"https://colab.research.google.com/github/clovesrocha/ETEPD_LP/blob/main/PrimeiroCRUDemPython_e_SQlite.ipynb\" target=\"_parent\"><img src=\"https://colab.research.google.com/assets/colab-badge.svg\" alt=\"Open In Colab\"/></a>"
      ]
    },
    {
      "cell_type": "code",
      "execution_count": 7,
      "metadata": {
        "colab": {
          "base_uri": "https://localhost:8080/"
        },
        "id": "QPEtsX_c8omR",
        "outputId": "c2dc0f00-462d-427e-ebc3-80ed28a2903e"
      },
      "outputs": [
        {
          "output_type": "stream",
          "name": "stdout",
          "text": [
            "[('Juca', 50, 'juca123@gmail.com'), ('Juca', 50, 'juca123@gmail.com')]\n"
          ]
        }
      ],
      "source": [
        "\n",
        "import sqlite3\n",
        "\n",
        "#Criando o banco de dados \"primeiro_banco\" e conectando ao banco criado\n",
        "banco = sqlite3.connect('primeiro_banco.db')\n",
        "\n",
        "#Criando um cursor para trabalho com o banco de dados\n",
        "cursor = banco.cursor()\n",
        "\n",
        "#Criando uma tabela com parametros de Nome, Idade, e Email CRIAR - CRUD\n",
        "#cursor.execute(\"CREATE TABLE pessoas (nome text,idade integer,email text)\")\n",
        "#Apos incluir um dado no banco de dados \"banco\" é necessario incluir comentario para que nao haja duplicações\n",
        "#cursor.execute(\"INSERT INTO pessoas VALUES('Maria',40,'maria123@gmail.com')\")\n",
        "#cursor.execute(\"INSERT INTO pessoas VALUES('Joao',50,'joao123@gmail.com')\")\n",
        "#DELETAR - CRUD\n",
        "#cursor.execute(\"DELETE from pessoas WHERE nome = Juca\")\n",
        "\n",
        "#ATUALIZAR - CRUD\n",
        "cursor.execute(\"UPDATE pessoas SET nome = 'Juca' WHERE nome = 'Joao'\")\n",
        "cursor.execute(\"UPDATE pessoas SET email = 'juca123@gmail.com' WHERE email = 'joao123@gmail.com'\")\n",
        "\n",
        "banco.commit()\n",
        "\n",
        "#LER - CRUD\n",
        "cursor.execute(\"SELECT * FROM pessoas\")\n",
        "print(cursor.fetchall())\n",
        "#ref: https://youtu.be/jYUDi83tJXc"
      ]
    }
  ]
}