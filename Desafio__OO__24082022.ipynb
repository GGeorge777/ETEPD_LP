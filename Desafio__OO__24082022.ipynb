{
  "nbformat": 4,
  "nbformat_minor": 0,
  "metadata": {
    "colab": {
      "name": "Cópia de Desafio__OO__24082022.ipynb",
      "provenance": [],
      "collapsed_sections": [],
      "authorship_tag": "ABX9TyNaPEFuyQSfNjYBSAwjmRRX",
      "include_colab_link": true
    },
    "kernelspec": {
      "name": "python3",
      "display_name": "Python 3"
    },
    "language_info": {
      "name": "python"
    }
  },
  "cells": [
    {
      "cell_type": "markdown",
      "metadata": {
        "id": "view-in-github",
        "colab_type": "text"
      },
      "source": [
        "<a href=\"https://colab.research.google.com/github/clovesrocha/ETEPD_LP/blob/main/Desafio__OO__24082022.ipynb\" target=\"_parent\"><img src=\"https://colab.research.google.com/assets/colab-badge.svg\" alt=\"Open In Colab\"/></a>"
      ]
    },
    {
      "cell_type": "code",
      "execution_count": null,
      "metadata": {
        "colab": {
          "base_uri": "https://localhost:8080/"
        },
        "id": "7FRF1fwkFRYn",
        "outputId": "abfff7a1-658c-4aa6-ce39-fd71b1773868"
      },
      "outputs": [
        {
          "output_type": "stream",
          "name": "stdout",
          "text": [
            "João Paulo Martins Lima\n"
          ]
        }
      ],
      "source": [
        "## Desafio ETE PD aula 24.08.2022\n",
        "## Professor cloves\n",
        "## Aluno Victor Fernando\n",
        "\n",
        "class Estudante: \n",
        "     def __init__(self, nomecompleto, matricula, origem, tipo, nivel_dificuldade): \n",
        "         self.nomecompleto = nomecompleto\n",
        "         self.matricula = matricula\n",
        "         self.origem = origem\n",
        "         self.tipo = tipo\n",
        "         self.nivel_dificuldade = nivel_dificuldade\n",
        "\n",
        "if __name__ == \"__main__\": \n",
        "     estudante1 = Estudante(\"João Paulo Martins Lima\", \"007693542\", \"Mercado de trabalho\", \"subsequente\", \"baixa\")\n",
        "     print(estudante1.nomecompleto)"
      ]
    }
  ]
}